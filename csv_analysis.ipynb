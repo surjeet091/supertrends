{
 "cells": [
  {
   "cell_type": "code",
   "execution_count": 89,
   "metadata": {},
   "outputs": [],
   "source": [
    "import pandas as pd\n",
    "import numpy as np\n",
    "import glob\n",
    "import os"
   ]
  },
  {
   "cell_type": "code",
   "execution_count": 90,
   "metadata": {},
   "outputs": [],
   "source": [
    "path = 'D:\\\\others\\\\jupyter_notebook\\\\01_API\\\\next_step\\\\dail_segments'         \n",
    "all_files = glob.glob(os.path.join(path, \"*.csv\"))  "
   ]
  },
  {
   "cell_type": "code",
   "execution_count": 91,
   "metadata": {},
   "outputs": [],
   "source": [
    "for i in all_files:\n",
    "    df = pd.read_csv(i)\n",
    "    break\n",
    "    \n",
    "a = df['in_uptrend']\n",
    "b = df['status']\n",
    "\n",
    "k = 0; v = 0\n",
    "\n",
    "tmp_dict = {}\n",
    "flag = True\n",
    "for i in range(len(a)): \n",
    "    if a[i] ==  b[i] and flag==True:\n",
    "        k = i\n",
    "        flag = False\n",
    "    if a[i] !=  b[i] and flag == False:\n",
    "        v = i-1\n",
    "        flag = True\n",
    "        \n",
    "        try:   \n",
    "            tmp_dict[k] = v\n",
    "        except:\n",
    "            print(k,v)\n",
    "            pass"
   ]
  },
  {
   "cell_type": "code",
   "execution_count": 92,
   "metadata": {},
   "outputs": [
    {
     "data": {
      "text/plain": [
       "{0: 17, 30: 59, 76: 91}"
      ]
     },
     "execution_count": 92,
     "metadata": {},
     "output_type": "execute_result"
    }
   ],
   "source": [
    "tmp_dict"
   ]
  },
  {
   "cell_type": "code",
   "execution_count": null,
   "metadata": {},
   "outputs": [],
   "source": []
  },
  {
   "cell_type": "code",
   "execution_count": null,
   "metadata": {},
   "outputs": [],
   "source": []
  },
  {
   "cell_type": "code",
   "execution_count": null,
   "metadata": {},
   "outputs": [],
   "source": []
  },
  {
   "cell_type": "code",
   "execution_count": 94,
   "metadata": {},
   "outputs": [],
   "source": [
    "if list(tmp_dict.keys())[0] == 0:\n",
    "    start = list(tmp_dict.keys())[1:len(list(tmp_dict.keys()))]\n",
    "    end = list(tmp_dict.values())[1:len(list(tmp_dict.values()))]\n",
    "else:\n",
    "    start = list(tmp_dict.keys())[0:len(list(tmp_dict.keys()))]\n",
    "    end = list(tmp_dict.values())[0:len(list(tmp_dict.values()))]"
   ]
  },
  {
   "cell_type": "code",
   "execution_count": 95,
   "metadata": {},
   "outputs": [],
   "source": [
    "entry_date = []\n",
    "exit_date = []\n",
    "\n",
    "entry_price = []\n",
    "exit_price = []\n",
    "\n",
    "order = []\n",
    "for i in range(len(start)):\n",
    "    entry_date.append(df.loc[start[i]]['date'])\n",
    "    exit_date.append(df.loc[end[i]]['date'])\n",
    "    entry_price.append(df.loc[start[i]]['close'])\n",
    "    exit_price.append(df.loc[end[i]]['close'])\n",
    "    if True == df['status'][start[i]]:\n",
    "        order.append(\"buy\")\n",
    "    else:\n",
    "        order.append(\"sell\")\n",
    "    #df = pd.DataFrame()\n",
    "    "
   ]
  },
  {
   "cell_type": "code",
   "execution_count": null,
   "metadata": {},
   "outputs": [],
   "source": []
  },
  {
   "cell_type": "code",
   "execution_count": null,
   "metadata": {},
   "outputs": [],
   "source": []
  },
  {
   "cell_type": "code",
   "execution_count": null,
   "metadata": {},
   "outputs": [],
   "source": []
  },
  {
   "cell_type": "code",
   "execution_count": 96,
   "metadata": {},
   "outputs": [
    {
     "name": "stdout",
     "output_type": "stream",
     "text": [
      "D:\\others\\jupyter_notebook\\01_API\\next_step\\dail_segments\\daily_segments_46.csv\n"
     ]
    }
   ],
   "source": [
    "#k = 0; v = 0\n",
    "for i in range(len(all_files)):\n",
    "    df = pd.read_csv(all_files[41])\n",
    "    print(all_files[41])\n",
    "    break\n",
    "    \n",
    "a = df['in_uptrend']\n",
    "b = df['status']\n",
    "\n",
    "tmp_dict = {}\n",
    "flag = True\n",
    "for i in range(len(a)):  \n",
    "    if a[i] ==  b[i] and flag==True:\n",
    "        k = i\n",
    "        flag = False\n",
    "    if a[i] !=  b[i] and flag == False:\n",
    "        v = i-1 \n",
    "        flag = True\n",
    "        if k != 0 and v != 0:\n",
    "            try:   \n",
    "                tmp_dict[k] = v\n",
    "            except:\n",
    "                pass"
   ]
  },
  {
   "cell_type": "code",
   "execution_count": 97,
   "metadata": {},
   "outputs": [
    {
     "data": {
      "text/plain": [
       "dict_keys([54, 137, 209])"
      ]
     },
     "execution_count": 97,
     "metadata": {},
     "output_type": "execute_result"
    }
   ],
   "source": [
    "tmp_dict.keys()"
   ]
  },
  {
   "cell_type": "code",
   "execution_count": 98,
   "metadata": {},
   "outputs": [],
   "source": [
    "if list(tmp_dict.keys())[0] == 0:\n",
    "    start = list(tmp_dict.keys())[1:len(list(tmp_dict.keys()))]\n",
    "    end = list(tmp_dict.values())[1:len(list(tmp_dict.values()))]\n",
    "else:\n",
    "    start = list(tmp_dict.keys())[0:len(list(tmp_dict.keys()))]\n",
    "    end = list(tmp_dict.values())[0:len(list(tmp_dict.values()))]"
   ]
  },
  {
   "cell_type": "code",
   "execution_count": 99,
   "metadata": {},
   "outputs": [
    {
     "data": {
      "text/plain": [
       "([54, 137, 209], [132, 150, 318])"
      ]
     },
     "execution_count": 99,
     "metadata": {},
     "output_type": "execute_result"
    }
   ],
   "source": [
    "start, end"
   ]
  },
  {
   "cell_type": "code",
   "execution_count": 100,
   "metadata": {},
   "outputs": [],
   "source": [
    "entry_date = []\n",
    "exit_date = []\n",
    "\n",
    "entry_price = []\n",
    "exit_price = []\n",
    "\n",
    "order = []\n",
    "for i in range(len(start)):\n",
    "    entry_date.append(df.loc[start[i]]['date'])\n",
    "    exit_date.append(df.loc[end[i]]['date'])\n",
    "    entry_price.append(df.loc[start[i]]['close'])\n",
    "    exit_price.append(df.loc[end[i]]['close'])\n",
    "    if True == df['status'][start[i]]:\n",
    "        order.append(\"buy\")\n",
    "    else:\n",
    "        order.append(\"sell\")"
   ]
  },
  {
   "cell_type": "code",
   "execution_count": 101,
   "metadata": {},
   "outputs": [
    {
     "data": {
      "text/plain": [
       "['05-10-2020', '02-02-2021', '21-05-2021']"
      ]
     },
     "execution_count": 101,
     "metadata": {},
     "output_type": "execute_result"
    }
   ],
   "source": [
    "entry_date"
   ]
  },
  {
   "cell_type": "code",
   "execution_count": 102,
   "metadata": {},
   "outputs": [
    {
     "data": {
      "text/plain": [
       "['25-01-2021', '19-02-2021', '27-10-2021']"
      ]
     },
     "execution_count": 102,
     "metadata": {},
     "output_type": "execute_result"
    }
   ],
   "source": [
    "exit_date"
   ]
  },
  {
   "cell_type": "code",
   "execution_count": 103,
   "metadata": {},
   "outputs": [
    {
     "data": {
      "text/plain": [
       "[11503.35, 14647.85, 15175.3]"
      ]
     },
     "execution_count": 103,
     "metadata": {},
     "output_type": "execute_result"
    }
   ],
   "source": [
    "entry_price"
   ]
  },
  {
   "cell_type": "code",
   "execution_count": 104,
   "metadata": {},
   "outputs": [
    {
     "data": {
      "text/plain": [
       "[14238.9, 14981.75, 18210.95]"
      ]
     },
     "execution_count": 104,
     "metadata": {},
     "output_type": "execute_result"
    }
   ],
   "source": [
    "exit_price"
   ]
  },
  {
   "cell_type": "code",
   "execution_count": 105,
   "metadata": {},
   "outputs": [
    {
     "data": {
      "text/plain": [
       "['buy', 'buy', 'buy']"
      ]
     },
     "execution_count": 105,
     "metadata": {},
     "output_type": "execute_result"
    }
   ],
   "source": [
    "order"
   ]
  },
  {
   "cell_type": "code",
   "execution_count": null,
   "metadata": {},
   "outputs": [],
   "source": []
  },
  {
   "cell_type": "code",
   "execution_count": null,
   "metadata": {},
   "outputs": [],
   "source": []
  },
  {
   "cell_type": "code",
   "execution_count": null,
   "metadata": {},
   "outputs": [],
   "source": []
  },
  {
   "cell_type": "code",
   "execution_count": null,
   "metadata": {},
   "outputs": [],
   "source": []
  },
  {
   "cell_type": "code",
   "execution_count": null,
   "metadata": {},
   "outputs": [],
   "source": []
  }
 ],
 "metadata": {
  "kernelspec": {
   "display_name": "Python 3",
   "language": "python",
   "name": "python3"
  },
  "language_info": {
   "codemirror_mode": {
    "name": "ipython",
    "version": 3
   },
   "file_extension": ".py",
   "mimetype": "text/x-python",
   "name": "python",
   "nbconvert_exporter": "python",
   "pygments_lexer": "ipython3",
   "version": "3.7.6"
  }
 },
 "nbformat": 4,
 "nbformat_minor": 4
}
